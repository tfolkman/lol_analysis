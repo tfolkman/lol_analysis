{
 "cells": [
  {
   "cell_type": "code",
   "execution_count": 46,
   "metadata": {
    "collapsed": true
   },
   "outputs": [],
   "source": [
    "import requests\n",
    "import json\n",
    "from collections import defaultdict\n",
    "import seaborn as sns\n",
    "import matplotlib.pyplot as plt\n",
    "%matplotlib inline"
   ]
  },
  {
   "cell_type": "code",
   "execution_count": 11,
   "metadata": {
    "collapsed": false
   },
   "outputs": [],
   "source": [
    "with open(\"config.json\", \"r\") as f:\n",
    "    config = json.loads(f.read())\n",
    "api_key = config[\"api-key\"]\n",
    "season = \"SEASON2017\"\n",
    "\n",
    "challenger_url = \"https://na.api.pvp.net/api/lol/na/v2.5/league/challenger?type=RANKED_FLEX_SR&api_key={}\".format(api_key)\n",
    "stats_url = \"https://na.api.pvp.net/api/lol/na/v1.3/stats/by-summoner/{id}/ranked?season={season}&api_key={key}\"\n",
    "champions_url = \"https://global.api.pvp.net/api/lol/static-data/na/v1.2/champion?api_key={}\".format(api_key)\n",
    "summoner_url = \"https://na.api.pvp.net/api/lol/NA/v1.4/summoner/by-name/{name}?api_key={key}\""
   ]
  },
  {
   "cell_type": "code",
   "execution_count": 15,
   "metadata": {
    "collapsed": true
   },
   "outputs": [],
   "source": [
    "def get_challenger_ids():\n",
    "    challenger_data = requests.get(challenger_url).json()\n",
    "    ids = []\n",
    "    for entry in challenger_data['entries']:\n",
    "        ids.append(entry['playerOrTeamId'])\n",
    "    return ids\n",
    "        \n",
    "def get_champion_dict():\n",
    "    return requests.get(champions_url).json()['data']\n",
    "\n",
    "def get_champ_id(name, data_dict):\n",
    "    return data_dict[name]['id']\n",
    "\n",
    "def champ_id_to_name_dict(champion_dict):\n",
    "    id_dict = {}\n",
    "    for name in champion_dict.keys():\n",
    "        id_dict[champion_dict[name]['id']] = name\n",
    "    return id_dict\n",
    "\n",
    "def get_user_stats(user):\n",
    "    return requests.get(stats_url.format(id=user, season=season, key=api_key)).json()\n",
    "\n",
    "def get_summoner_id(name):\n",
    "    json_data = requests.get(summoner_url.format(key=api_key, name=name)).json()\n",
    "    return json_data[name]['id']\n",
    "\n",
    "def get_match_data_for_summoner(summoner_id, season, rankedQueues=\"RANKED_FLEX_SR\"):\n",
    "    url = \"https://na.api.pvp.net/api/lol/NA/v2.2/matchlist/by-summoner/{id}?rankedQueues={ranked}&season={season}&api_key={key}\" \\\n",
    "        .format(key=api_key, id=summoner_id, season=season, ranked=rankedQueues)\n",
    "    json_data = requests.get(url).json()\n",
    "    return json_data\n",
    "\n",
    "def get_arrays_from_match_data(match_data, keys):\n",
    "    array_dict = defaultdict(list)\n",
    "    for match in match_data['matches']:\n",
    "        for key in keys:\n",
    "            array_dict[key].append(match[key])\n",
    "    return array_dict\n",
    "\n",
    "def get_match_data(match_id):\n",
    "    url = \"https://na.api.pvp.net/api/lol/NA/v2.2/match/{id}?includeTimeline=true&api_key={key}\" \\\n",
    "        .format(id=match_id, key=api_key)\n",
    "    json_data = requests.get(url).json()\n",
    "    return json_data"
   ]
  },
  {
   "cell_type": "markdown",
   "metadata": {},
   "source": [
    "## Team Analytics"
   ]
  },
  {
   "cell_type": "code",
   "execution_count": 16,
   "metadata": {
    "collapsed": false
   },
   "outputs": [],
   "source": [
    "summoner_id = get_summoner_id(\"mastersyrios\")"
   ]
  },
  {
   "cell_type": "code",
   "execution_count": 17,
   "metadata": {
    "collapsed": false
   },
   "outputs": [],
   "source": [
    "match_data = get_match_data_for_summoner(summoner_id, season)"
   ]
  },
  {
   "cell_type": "code",
   "execution_count": 18,
   "metadata": {
    "collapsed": true
   },
   "outputs": [],
   "source": [
    "match_arrays = get_arrays_from_match_data(match_data, ['matchId', 'lane', 'role', 'timestamp'])"
   ]
  },
  {
   "cell_type": "code",
   "execution_count": 19,
   "metadata": {
    "collapsed": false
   },
   "outputs": [],
   "source": [
    "match_data = get_match_data(match_arrays['matchId'][0])"
   ]
  },
  {
   "cell_type": "code",
   "execution_count": 60,
   "metadata": {
    "collapsed": false
   },
   "outputs": [
    {
     "data": {
      "text/plain": [
       "2451309769"
      ]
     },
     "execution_count": 60,
     "metadata": {},
     "output_type": "execute_result"
    }
   ],
   "source": [
    "match_arrays['matchId'][0]"
   ]
  },
  {
   "cell_type": "code",
   "execution_count": 55,
   "metadata": {
    "collapsed": false
   },
   "outputs": [],
   "source": [
    "rimble = '6'\n",
    "syrios = '8'\n",
    "brunore = '7'\n",
    "total_gold_rimble = []\n",
    "total_gold_syrios = []\n",
    "total_gold_brunore = []\n",
    "timestamps = []\n",
    "for frame in match_data[\"timeline\"]['frames']:\n",
    "    total_gold_rimble.append(frame['participantFrames'][rimble]['totalGold'])\n",
    "    total_gold_syrios.append(frame['participantFrames'][syrios]['totalGold'])\n",
    "    total_gold_brunore.append(frame['participantFrames'][brunore]['totalGold'])\n",
    "    timestamps.append(frame['timestamp'])"
   ]
  },
  {
   "cell_type": "code",
   "execution_count": 59,
   "metadata": {
    "collapsed": false
   },
   "outputs": [
    {
     "data": {
      "text/plain": [
       "<matplotlib.legend.Legend at 0x11b150470>"
      ]
     },
     "execution_count": 59,
     "metadata": {},
     "output_type": "execute_result"
    },
    {
     "data": {
      "image/png": "[encoded data removed]",
      "text/plain": [
       "<matplotlib.figure.Figure at 0x11b034400>"
      ]
     },
     "metadata": {},
     "output_type": "display_data"
    }
   ],
   "source": [
    "plt.plot(timestamps, total_gold_rimble, label=\"rimble\")\n",
    "plt.plot(timestamps, total_gold_syrios, label=\"syrios\")\n",
    "plt.plot(timestamps, total_gold_brunore, label=\"brunore\")\n",
    "plt.legend()"
   ]
  },
  {
   "cell_type": "markdown",
   "metadata": {},
   "source": [
    "## Other"
   ]
  },
  {
   "cell_type": "code",
   "execution_count": null,
   "metadata": {
    "collapsed": false
   },
   "outputs": [],
   "source": [
    "champion_dict = get_champion_dict()\n",
    "challenger_ids = get_challenger_ids()\n",
    "id_to_name_dict = champ_id_to_name_dict(champion_dict)"
   ]
  },
  {
   "cell_type": "code",
   "execution_count": null,
   "metadata": {
    "collapsed": false
   },
   "outputs": [],
   "source": [
    "id_to_name_dict[51]"
   ]
  },
  {
   "cell_type": "code",
   "execution_count": null,
   "metadata": {
    "collapsed": false
   },
   "outputs": [],
   "source": [
    "zyra_id = get_champ_id(\"Zyra\", champion_dict)"
   ]
  },
  {
   "cell_type": "code",
   "execution_count": null,
   "metadata": {
    "collapsed": false
   },
   "outputs": [],
   "source": [
    "x=get_user_stats(challenger_ids[0])"
   ]
  },
  {
   "cell_type": "code",
   "execution_count": null,
   "metadata": {
    "collapsed": false
   },
   "outputs": [],
   "source": [
    "x['champions'][0]"
   ]
  },
  {
   "cell_type": "code",
   "execution_count": null,
   "metadata": {
    "collapsed": false
   },
   "outputs": [],
   "source": [
    "challenger_data.keys()"
   ]
  },
  {
   "cell_type": "code",
   "execution_count": null,
   "metadata": {
    "collapsed": false
   },
   "outputs": [],
   "source": [
    "requests.get(stats_url.format(id=29293356, season=season, key=api_key)).json()"
   ]
  },
  {
   "cell_type": "code",
   "execution_count": null,
   "metadata": {
    "collapsed": true
   },
   "outputs": [],
   "source": []
  }
 ],
 "metadata": {
  "anaconda-cloud": {},
  "kernelspec": {
   "display_name": "Python 3",
   "language": "python",
   "name": "python3"
  },
  "language_info": {
   "codemirror_mode": {
    "name": "ipython",
    "version": 3
   },
   "file_extension": ".py",
   "mimetype": "text/x-python",
   "name": "python",
   "nbconvert_exporter": "python",
   "pygments_lexer": "ipython3",
   "version": "3.5.1"
  }
 },
 "nbformat": 4,
 "nbformat_minor": 1
}
